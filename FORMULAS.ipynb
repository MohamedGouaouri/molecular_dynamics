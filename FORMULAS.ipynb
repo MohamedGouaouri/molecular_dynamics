{
 "cells": [
  {
   "cell_type": "markdown",
   "metadata": {},
   "source": [
    "# Formulas description\n",
    "\n",
    "In this file we describe the formulas used by the program.\n",
    "\n",
    "## Lennar jones potential\n",
    "The Lennard-Jones potential describes the potential energy of interaction between two non-bonding atoms or molecules based on their distance of separation  \n",
    "The commonly used formula to comute it is:  \n",
    "$ V_{LJ}(r) =  4\\epsilon [ (\\frac{\\sigma}{r})^{12} - (\\frac{\\sigma}{r})^{6} ]$  \n",
    "where $r$ is the distance between the two interacting particles, $\\epsilon$ is the dispersion energy, and $\\sigma$ is the distance at which the particle-particle potential energy $V_{LJ}$ is zero.\n",
    "\n",
    "## Acceleration computation\n",
    "We use $Newton's$ formula $F = m.a \\implies a = \\frac{F}{m}$  \n",
    "In order to calculate forces on  each particle we use the derivative of the Lennard-Jones potential.\n",
    "\n",
    "## Lennard-Jones potential derivative\n",
    "To be searched for and described asap\n",
    "\n",
    "## kinetic energy formula\n",
    "The kinetic energy formula is stated as follows:  \n",
    "$K = \\frac{1}{2} m.v^{2}$  \n",
    "\n",
    "\n"
   ]
  }
 ],
 "metadata": {
  "language_info": {
   "name": "python"
  },
  "orig_nbformat": 4
 },
 "nbformat": 4,
 "nbformat_minor": 2
}
